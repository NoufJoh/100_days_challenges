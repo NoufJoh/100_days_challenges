{
 "cells": [
  {
   "cell_type": "code",
   "execution_count": 1,
   "id": "d103015c",
   "metadata": {},
   "outputs": [],
   "source": [
    "# stop showing warnings.\n",
    "import warnings\n",
    "warnings.filterwarnings(\"ignore\")\n",
    "# import numpy library\n",
    "import numpy as np"
   ]
  },
  {
   "cell_type": "code",
   "execution_count": 2,
   "id": "13fbcad0",
   "metadata": {},
   "outputs": [
    {
     "name": "stdout",
     "output_type": "stream",
     "text": [
      "Array from 1 to 10: [ 1  2  3  4  5  6  7  8  9 10]\n"
     ]
    }
   ],
   "source": [
    "# Create an array from 1 to 10\n",
    "arr1 = np.arange(1, 11)\n",
    "print(f\"Array from 1 to 10: {arr1}\")"
   ]
  },
  {
   "cell_type": "code",
   "execution_count": 3,
   "id": "17ac0ea7",
   "metadata": {},
   "outputs": [
    {
     "name": "stdout",
     "output_type": "stream",
     "text": [
      "2D array with shape (4,3): [[ 1  2  3]\n",
      " [ 4  5  6]\n",
      " [ 7  8  9]\n",
      " [10 11 12]]\n"
     ]
    }
   ],
   "source": [
    "\n",
    "# Create a 2D array with 4 rows and 3 columns\n",
    "arr2 = np.array([[1, 2, 3], [4, 5, 6], [7, 8, 9], [10, 11, 12]])\n",
    "print(f\"2D array with shape (4,3): {arr2}\")"
   ]
  },
  {
   "cell_type": "code",
   "execution_count": 4,
   "id": "5add2d07",
   "metadata": {},
   "outputs": [
    {
     "name": "stdout",
     "output_type": "stream",
     "text": [
      "3D array with shape (2,2,3): [[[ 1  2  3]\n",
      "  [ 4  5  6]]\n",
      "\n",
      " [[ 7  8  9]\n",
      "  [10 11 12]]]\n"
     ]
    }
   ],
   "source": [
    "# Create a 3D array with shape (2,2,3)\n",
    "arr3 = np.array([[[1, 2, 3], [4, 5, 6]], [[7, 8, 9], [10, 11, 12]]])\n",
    "print(f\"3D array with shape (2,2,3): {arr3}\")"
   ]
  },
  {
   "cell_type": "code",
   "execution_count": null,
   "id": "bf40c53a",
   "metadata": {},
   "outputs": [],
   "source": []
  }
 ],
 "metadata": {
  "kernelspec": {
   "display_name": "Python 3 (ipykernel)",
   "language": "python",
   "name": "python3"
  },
  "language_info": {
   "codemirror_mode": {
    "name": "ipython",
    "version": 3
   },
   "file_extension": ".py",
   "mimetype": "text/x-python",
   "name": "python",
   "nbconvert_exporter": "python",
   "pygments_lexer": "ipython3",
   "version": "3.9.12"
  }
 },
 "nbformat": 4,
 "nbformat_minor": 5
}
