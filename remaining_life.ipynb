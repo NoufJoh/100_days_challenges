{
 "cells": [
  {
   "cell_type": "code",
   "execution_count": 1,
   "id": "82392df3",
   "metadata": {},
   "outputs": [
    {
     "name": "stdout",
     "output_type": "stream",
     "text": [
      "Enter your birth year: 1934\n",
      "Enter your birth month: 2\n",
      "Enter your birth day: 22\n",
      "Enter your Expected Age (it's assumed to be 90 years old if you press Enter): \n",
      "You have 366 days, 68 weeks, 15 months, and 1 years left.\n"
     ]
    }
   ],
   "source": [
    "from datetime import date\n",
    "\n",
    "def remaining_life():\n",
    "    birth_year = int(input(\"Enter your birth year: \"))\n",
    "    birth_month = int(input(\"Enter your birth month: \"))\n",
    "    birth_day = int(input(\"Enter your birth day: \"))\n",
    "\n",
    "    expected_age_ip = input(\"Enter your Expected Age (it's assumed to be 90 years old if you press Enter): \")\n",
    "    expected_age = int(expected_age_ip) if expected_age_ip else 90\n",
    "\n",
    "    today = date.today()\n",
    "    age = today.year - birth_year - ((today.month, today.day) < (birth_month, birth_day))\n",
    "\n",
    "    years_remaining = expected_age - age\n",
    "    months_remaining = years_remaining * 12 + (12 - today.month)\n",
    "    weeks_remaining = years_remaining * 52 + (52 - today.isocalendar()[1])\n",
    "    days_remaining = (date(today.year + years_remaining, today.month, today.day) - today).days\n",
    "\n",
    "    print(f\"You have {days_remaining} days, {weeks_remaining} weeks, {months_remaining} months, and {years_remaining} years left.\")\n",
    "\n",
    "remaining_life()\n"
   ]
  },
  {
   "cell_type": "code",
   "execution_count": null,
   "id": "d5f7078d",
   "metadata": {},
   "outputs": [],
   "source": []
  }
 ],
 "metadata": {
  "kernelspec": {
   "display_name": "Python 3 (ipykernel)",
   "language": "python",
   "name": "python3"
  },
  "language_info": {
   "codemirror_mode": {
    "name": "ipython",
    "version": 3
   },
   "file_extension": ".py",
   "mimetype": "text/x-python",
   "name": "python",
   "nbconvert_exporter": "python",
   "pygments_lexer": "ipython3",
   "version": "3.9.12"
  }
 },
 "nbformat": 4,
 "nbformat_minor": 5
}
