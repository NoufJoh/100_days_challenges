{
 "cells": [
  {
   "cell_type": "code",
   "execution_count": 1,
   "id": "ed2214be",
   "metadata": {},
   "outputs": [
    {
     "name": "stdout",
     "output_type": "stream",
     "text": [
      "Enter the first number: 5\n",
      "Enter the second number: 3\n",
      "Enter an operation (+, -, *, /) or 'all' to perform all operations: all\n",
      "The result of 5.0 + 3.0 is: 8.0\n",
      "The result of 5.0 - 3.0 is: 2.0\n",
      "The result of 5.0 * 3.0 is: 15.0\n",
      "The result of 5.0 / 3.0 is: 1.6666666666666667\n"
     ]
    }
   ],
   "source": [
    "\n",
    "\"\"\"\n",
    "This is a simple calculator program written in Python. \n",
    "It allows the user to perform basic arithmetic operations (addition, subtraction, multiplication, and division) \n",
    "on two numbers. The user can enter the two numbers and choose the operation they want to perform \n",
    "or choose to perform all operations. The program then calculates and displays the result of the chosen operation(s).\n",
    "\"\"\" \n",
    "\n",
    "num1 = float(input(\"Enter the first number: \"))\n",
    "num2 = float(input(\"Enter the second number: \"))\n",
    "\n",
    "operation = input(\"Enter an operation (+, -, *, /) or 'all' to perform all operations: \")\n",
    "\n",
    "if operation == \"+\":\n",
    "    result = num1 + num2\n",
    "    print(f\"The result of {num1} + {num2} is: {result}\")\n",
    "elif operation == \"-\":\n",
    "    result = num1 - num2\n",
    "    print(f\"The result of {num1} - {num2} is: {result}\")\n",
    "elif operation == \"*\":\n",
    "    result = num1 * num2\n",
    "    print(f\"The result of {num1} * {num2} is: {result}\")\n",
    "elif operation == \"/\":\n",
    "    result = num1 / num2\n",
    "    print(f\"The result of {num1} / {num2} is: {result}\")\n",
    "elif operation == \"all\":\n",
    "    add_result = num1 + num2\n",
    "    sub_result = num1 - num2\n",
    "    mul_result = num1 * num2\n",
    "    div_result = num1 / num2\n",
    "    print(f\"The result of {num1} + {num2} is: {add_result}\")\n",
    "    print(f\"The result of {num1} - {num2} is: {sub_result}\")\n",
    "    print(f\"The result of {num1} * {num2} is: {mul_result}\")\n",
    "    print(f\"The result of {num1} / {num2} is: {div_result}\")\n",
    "else:\n",
    "    print(\"Invalid operation\")\n"
   ]
  },
  {
   "cell_type": "code",
   "execution_count": null,
   "id": "1e24e1e8",
   "metadata": {},
   "outputs": [],
   "source": []
  }
 ],
 "metadata": {
  "kernelspec": {
   "display_name": "Python 3 (ipykernel)",
   "language": "python",
   "name": "python3"
  },
  "language_info": {
   "codemirror_mode": {
    "name": "ipython",
    "version": 3
   },
   "file_extension": ".py",
   "mimetype": "text/x-python",
   "name": "python",
   "nbconvert_exporter": "python",
   "pygments_lexer": "ipython3",
   "version": "3.9.12"
  }
 },
 "nbformat": 4,
 "nbformat_minor": 5
}
